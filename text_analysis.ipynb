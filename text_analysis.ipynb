{
 "cells": [
  {
   "cell_type": "code",
   "execution_count": 1,
   "metadata": {},
   "outputs": [],
   "source": [
    "import pandas as pd\n",
    "import os\n",
    "import regex as re\n",
    "import string\n",
    "import numpy as np\n",
    "import collections\n",
    "\n",
    "import contractions\n",
    "import spacy\n",
    "#from spacy.tokenizer import Tokenizer\n",
    "import en_core_web_sm\n",
    "import nltk\n",
    "#from nltk.stem import WordNetLemmatizer\n",
    "from nltk import bigrams\n",
    "#from sklearn.base import TransformerMixin, BaseEstimator\n",
    "#import sys\n",
    "\n"
   ]
  },
  {
   "cell_type": "code",
   "execution_count": 2,
   "metadata": {},
   "outputs": [],
   "source": [
    "#nltk.download('punkt')\n",
    "#nltk.download('stopwords')\n",
    "#nltk.download('wordnet')\n",
    "nlp = spacy.load(\"en_core_web_sm\", disable=['parser', 'ner'])"
   ]
  },
  {
   "cell_type": "code",
   "execution_count": 3,
   "metadata": {},
   "outputs": [],
   "source": [
    "\n",
    "\n",
    "#nlp = spacy.load('en', disable=['parser', 'ner'])\n",
    "#nlp = en_core_web_sm.load()\n",
    "#nlp = spacy.load(\"en_core_web_sm\", disable=['parser', 'ner'])\n",
    "\n",
    "# #alter default spacy stopwords so 'not' isn't considered a stop word\n",
    "\n",
    "    \n",
    "\n",
    "# #Should hopefully deal with contractions\n",
    "# special_cases = {\":)\": [{\"ORTH\": \":)\"}]}\n",
    "\n",
    "\n",
    "    \n",
    "    \n",
    "# def custom_tokenizer(nlp, custom_stop_words):\n",
    "    \n",
    "#     for w in customize_stop_words:\n",
    "#         nlp.vocab[w].is_stop = False\n",
    "        \n",
    "#     return Tokenizer(nlp.vocab, rules=special_cases)\n",
    "\n",
    "# nlp.tokenizer = custom_tokenizer(nlp, customize_stop_words)"
   ]
  },
  {
   "cell_type": "code",
   "execution_count": 4,
   "metadata": {},
   "outputs": [],
   "source": [
    "# nlp = en_core_web_sm.load()\n",
    "\n",
    "# customize_stop_words = {'not':False, 'yeah':True}"
   ]
  },
  {
   "cell_type": "code",
   "execution_count": 5,
   "metadata": {},
   "outputs": [],
   "source": [
    "#https://www.kaggle.com/balatmak/text-preprocessing-steps-and-universal-pipeline\n",
    "\n",
    "nlp = en_core_web_sm.load()\n",
    "\n",
    "customize_stop_words = {'not':False, 'yeah':True}\n",
    "\n",
    "\n",
    "for w,val in customize_stop_words.items():\n",
    "    nlp.vocab[w].is_stop = val\n",
    "\n",
    "\n",
    "class TextPreprocessor(object):\n",
    "    def __init__(self):\n",
    "        \"\"\"\n",
    "        TBD\n",
    "        \"\"\"\n",
    "\n",
    "    def preprocess_df(self, df):\n",
    "        return df.apply(self._preprocess_text)\n",
    "\n",
    "    def _preprocess_text(self, text):\n",
    "        doc = nlp(text)\n",
    "        removed_punct = self._remove_punct(doc)\n",
    "        removed_stop_words = self._remove_stop_words(removed_punct)\n",
    "        return self._lemmatize(removed_stop_words)\n",
    "\n",
    "    def _remove_punct(self, doc):\n",
    "        return [t for t in doc if t.text not in string.punctuation]\n",
    "\n",
    "    def _remove_stop_words(self, doc):\n",
    "        return [t for t in doc if not t.is_stop]\n",
    "\n",
    "    def _lemmatize(self, doc):\n",
    "        return ' '.join([t.lemma_ for t in doc])\n",
    "\n"
   ]
  },
  {
   "cell_type": "code",
   "execution_count": 6,
   "metadata": {},
   "outputs": [],
   "source": [
    "os.chdir(\"/Users/amywinecoff/Documents/CITP/Research/Github/ai-dialogues/startup-study/data/docs\")"
   ]
  },
  {
   "cell_type": "code",
   "execution_count": 7,
   "metadata": {},
   "outputs": [],
   "source": [
    "#replace some words so all texts refer to them the same way throughout\n",
    "lookp_dict = {\n",
    "    \"artificial intelligence\" : \"ai\", \n",
    "    \"machine learning\" : \"ml\",\n",
    "    }"
   ]
  },
  {
   "cell_type": "code",
   "execution_count": 8,
   "metadata": {},
   "outputs": [
    {
     "data": {
      "text/html": [
       "<div>\n",
       "<style scoped>\n",
       "    .dataframe tbody tr th:only-of-type {\n",
       "        vertical-align: middle;\n",
       "    }\n",
       "\n",
       "    .dataframe tbody tr th {\n",
       "        vertical-align: top;\n",
       "    }\n",
       "\n",
       "    .dataframe thead th {\n",
       "        text-align: right;\n",
       "    }\n",
       "</style>\n",
       "<table border=\"1\" class=\"dataframe\">\n",
       "  <thead>\n",
       "    <tr style=\"text-align: right;\">\n",
       "      <th></th>\n",
       "      <th>quote</th>\n",
       "      <th>pid</th>\n",
       "      <th>industry</th>\n",
       "    </tr>\n",
       "  </thead>\n",
       "  <tbody>\n",
       "    <tr>\n",
       "      <th>0</th>\n",
       "      <td>sure, so at companyname we are a software tech...</td>\n",
       "      <td>P1</td>\n",
       "      <td>Marketing</td>\n",
       "    </tr>\n",
       "    <tr>\n",
       "      <th>1</th>\n",
       "      <td>yeah. all right, so we do small promotion and ...</td>\n",
       "      <td>P1</td>\n",
       "      <td>Marketing</td>\n",
       "    </tr>\n",
       "    <tr>\n",
       "      <th>2</th>\n",
       "      <td>yeah. so once a month we co-host a startup int...</td>\n",
       "      <td>P1</td>\n",
       "      <td>Marketing</td>\n",
       "    </tr>\n",
       "    <tr>\n",
       "      <th>3</th>\n",
       "      <td>yeah, so on top of our own solution, we use ai...</td>\n",
       "      <td>P1</td>\n",
       "      <td>Marketing</td>\n",
       "    </tr>\n",
       "    <tr>\n",
       "      <th>4</th>\n",
       "      <td>yeah, sure. there is actually one blog post th...</td>\n",
       "      <td>P1</td>\n",
       "      <td>Marketing</td>\n",
       "    </tr>\n",
       "  </tbody>\n",
       "</table>\n",
       "</div>"
      ],
      "text/plain": [
       "                                               quote pid   industry\n",
       "0  sure, so at companyname we are a software tech...  P1  Marketing\n",
       "1  yeah. all right, so we do small promotion and ...  P1  Marketing\n",
       "2  yeah. so once a month we co-host a startup int...  P1  Marketing\n",
       "3  yeah, so on top of our own solution, we use ai...  P1  Marketing\n",
       "4  yeah, sure. there is actually one blog post th...  P1  Marketing"
      ]
     },
     "execution_count": 8,
     "metadata": {},
     "output_type": "execute_result"
    }
   ],
   "source": [
    "pid = 'P1'\n",
    "industry='Marketing'\n",
    "\n",
    "\n",
    "transcript = open('{}.txt'.format(pid), \"r\", encoding='utf-8').read().lower()\n",
    "transcript = contractions.fix(transcript)\n",
    "transcript_df = pd.DataFrame(transcript.split('*'), columns=['quote'])\n",
    "transcript_df['pid']=pid\n",
    "transcript_df['industry']=industry\n",
    "\n",
    "transcript_df.head()\n",
    "\n"
   ]
  },
  {
   "cell_type": "code",
   "execution_count": 9,
   "metadata": {},
   "outputs": [
    {
     "data": {
      "text/html": [
       "<div>\n",
       "<style scoped>\n",
       "    .dataframe tbody tr th:only-of-type {\n",
       "        vertical-align: middle;\n",
       "    }\n",
       "\n",
       "    .dataframe tbody tr th {\n",
       "        vertical-align: top;\n",
       "    }\n",
       "\n",
       "    .dataframe thead th {\n",
       "        text-align: right;\n",
       "    }\n",
       "</style>\n",
       "<table border=\"1\" class=\"dataframe\">\n",
       "  <thead>\n",
       "    <tr style=\"text-align: right;\">\n",
       "      <th></th>\n",
       "      <th>quote</th>\n",
       "      <th>pid</th>\n",
       "      <th>industry</th>\n",
       "      <th>pp_text</th>\n",
       "    </tr>\n",
       "  </thead>\n",
       "  <tbody>\n",
       "    <tr>\n",
       "      <th>0</th>\n",
       "      <td>sure, so at companyname we are a software tech...</td>\n",
       "      <td>P1</td>\n",
       "      <td>Marketing</td>\n",
       "      <td>sure companyname software technology company b...</td>\n",
       "    </tr>\n",
       "    <tr>\n",
       "      <th>1</th>\n",
       "      <td>yeah. all right, so we do small promotion and ...</td>\n",
       "      <td>P1</td>\n",
       "      <td>Marketing</td>\n",
       "      <td>right small promotion customer feedback featur...</td>\n",
       "    </tr>\n",
       "    <tr>\n",
       "      <th>2</th>\n",
       "      <td>yeah. so once a month we co-host a startup int...</td>\n",
       "      <td>P1</td>\n",
       "      <td>Marketing</td>\n",
       "      <td>month co host startup interview usually startu...</td>\n",
       "    </tr>\n",
       "    <tr>\n",
       "      <th>3</th>\n",
       "      <td>yeah, so on top of our own solution, we use ai...</td>\n",
       "      <td>P1</td>\n",
       "      <td>Marketing</td>\n",
       "      <td>solution use ai different way use analytic use...</td>\n",
       "    </tr>\n",
       "    <tr>\n",
       "      <th>4</th>\n",
       "      <td>yeah, sure. there is actually one blog post th...</td>\n",
       "      <td>P1</td>\n",
       "      <td>Marketing</td>\n",
       "      <td>sure actually blog post co publish ai tool let...</td>\n",
       "    </tr>\n",
       "  </tbody>\n",
       "</table>\n",
       "</div>"
      ],
      "text/plain": [
       "                                               quote pid   industry  \\\n",
       "0  sure, so at companyname we are a software tech...  P1  Marketing   \n",
       "1  yeah. all right, so we do small promotion and ...  P1  Marketing   \n",
       "2  yeah. so once a month we co-host a startup int...  P1  Marketing   \n",
       "3  yeah, so on top of our own solution, we use ai...  P1  Marketing   \n",
       "4  yeah, sure. there is actually one blog post th...  P1  Marketing   \n",
       "\n",
       "                                             pp_text  \n",
       "0  sure companyname software technology company b...  \n",
       "1  right small promotion customer feedback featur...  \n",
       "2  month co host startup interview usually startu...  \n",
       "3  solution use ai different way use analytic use...  \n",
       "4  sure actually blog post co publish ai tool let...  "
      ]
     },
     "execution_count": 9,
     "metadata": {},
     "output_type": "execute_result"
    }
   ],
   "source": [
    "transcript_df['pp_text']=(TextPreprocessor().preprocess_df(transcript_df['quote']))\n",
    "#text.loc[0]['quote']\n",
    "transcript_df.head()"
   ]
  },
  {
   "cell_type": "code",
   "execution_count": 10,
   "metadata": {},
   "outputs": [
    {
     "data": {
      "text/html": [
       "<div>\n",
       "<style scoped>\n",
       "    .dataframe tbody tr th:only-of-type {\n",
       "        vertical-align: middle;\n",
       "    }\n",
       "\n",
       "    .dataframe tbody tr th {\n",
       "        vertical-align: top;\n",
       "    }\n",
       "\n",
       "    .dataframe thead th {\n",
       "        text-align: right;\n",
       "    }\n",
       "</style>\n",
       "<table border=\"1\" class=\"dataframe\">\n",
       "  <thead>\n",
       "    <tr style=\"text-align: right;\">\n",
       "      <th></th>\n",
       "      <th>pid</th>\n",
       "      <th>pp_text</th>\n",
       "    </tr>\n",
       "  </thead>\n",
       "  <tbody>\n",
       "    <tr>\n",
       "      <th>0</th>\n",
       "      <td>P1</td>\n",
       "      <td>sure companyname software technology company b...</td>\n",
       "    </tr>\n",
       "  </tbody>\n",
       "</table>\n",
       "</div>"
      ],
      "text/plain": [
       "  pid                                            pp_text\n",
       "0  P1  sure companyname software technology company b..."
      ]
     },
     "execution_count": 10,
     "metadata": {},
     "output_type": "execute_result"
    }
   ],
   "source": [
    "#transcript=transcript_df.groupby(['pid'])['pp_text'].transform(lambda x : ' '.join(x))\n",
    "\n",
    "\n",
    "# transcript_df['all_text'] = transcript_df[['pp_text','pid']].groupby(['pid'])['pp_text'].transform(lambda x: ','.join(x))\n",
    "# #transcript_df[['pid','pp_text']].drop_duplicates()\n",
    "\n",
    "# print(len(transcript_df.loc[0]['all_text']))\n",
    "\n",
    "\n",
    "all_text = transcript_df[['pid', 'pp_text']].groupby(['pid'], as_index = False).agg({'pp_text': ' '.join})\n",
    "\n",
    "all_text\n"
   ]
  },
  {
   "cell_type": "code",
   "execution_count": 11,
   "metadata": {},
   "outputs": [
    {
     "data": {
      "text/plain": [
       "[('like', 48),\n",
       " ('not', 45),\n",
       " ('think', 40),\n",
       " ('...', 35),\n",
       " ('marketing', 33),\n",
       " ('startup', 33),\n",
       " ('actually', 32),\n",
       " ('help', 30),\n",
       " ('sure', 28),\n",
       " ('kind', 27),\n",
       " ('use', 26),\n",
       " ('lot', 25),\n",
       " ('great', 25),\n",
       " ('ai', 24),\n",
       " ('team', 23),\n",
       " ('tool', 23),\n",
       " ('let', 20),\n",
       " ('basically', 20),\n",
       " ('different', 19),\n",
       " ('time', 18),\n",
       " ('thing', 18),\n",
       " ('try', 18),\n",
       " ('customer', 17),\n",
       " ('plan', 17),\n",
       " ('program', 17),\n",
       " ('way', 17),\n",
       " ('work', 16),\n",
       " ('want', 16),\n",
       " ('specific', 16),\n",
       " ('information', 15),\n",
       " ('week', 15),\n",
       " ('content', 15),\n",
       " ('hey', 15),\n",
       " ('question', 15),\n",
       " ('focus', 15),\n",
       " ('partnership', 15),\n",
       " ('product', 14),\n",
       " ('feedback', 13),\n",
       " ('accelerator', 13),\n",
       " ('people', 13),\n",
       " ('datum', 13),\n",
       " ('share', 12),\n",
       " ('analytic', 11),\n",
       " ('need', 11),\n",
       " ('example', 11),\n",
       " ('sale', 11),\n",
       " ('get', 11),\n",
       " ('investor', 11),\n",
       " ('company', 10),\n",
       " ('base', 10)]"
      ]
     },
     "execution_count": 11,
     "metadata": {},
     "output_type": "execute_result"
    }
   ],
   "source": [
    "# counts_no_urls = collections.Counter(all_words_no_urls)\n",
    "\n",
    "# Create counter\n",
    "word_counts = collections.Counter(all_text.loc[0]['pp_text'].split())\n",
    "\n",
    "word_counts.most_common(50)"
   ]
  },
  {
   "cell_type": "code",
   "execution_count": 12,
   "metadata": {},
   "outputs": [
    {
     "data": {
      "text/plain": [
       "'sure companyname software technology company base thesouthwest year launch publicly automate marketing planning work startup smb agency enterprise marketing team usually marketer use solution automate market research identify ideal customer profile help customer decision journey tool ai base use course use tool ai base ... help save time identify growth opportunity startup smb enterprise marketing team agency use solution help scale fast let right consider current resource marketing plan resource tool multiply 20 \\n\\n\\n right small promotion customer feedback feature update platform publish share information startup interview prior clubhouse check social schedule check analytic weekly analytic check team plan week talk customer demo check upcoming event preparation kind thing let think main thing \\n\\n\\n month co host startup interview usually startup story early stage startup like indie hacker maker small team early stage not fund growth traction talk grow startup bootstrappe talk background channel use product problem solve product step startup journey plan raise capital not think go small period time sloop ai startup different thing video audio interactive sharing platform startup accelerator program decide basically chat live people connect startup share cool story relate marketing purpose different reason fun clubhouse event record publish recap post medium channel submit startup publication medium post indie hacker maker pretty big \\n\\n solution use ai different way use analytic use predictive analytic module help predict hit target kpis far set roadmap try accelerate analytic second use ai help generate content produce lot content social email blog content go basically overwhelmed idea need little bit inspiration turn ai meet workflow marketing associate use content writing ai system defer let think \\n\\n\\n sure actually blog post co publish ai tool let ... link try goal publish blog post week recently goal minimum week blog fresh google search result week like okay need publish not time write go ai help write drop link chat want background information like hey topic ai little bit background information spit paragraph text relevant like okay use blog post ... specific case mainly work work term hey fast manner generate blog post fresh website update way not work specific tool use not consider seo element text produce not exactly seo friendly thing polish time take prepare thing edit not small thing need happen ai tool basically step sure content generate specifically seo try test think find limitation come sound humanly not sound like read google think limitation see tool \\n guess prefer bit natural edit keyword way \\n\\n use predictive analytic help identify ... let set goal specific kpi tool tell set approximately reach goal let want not know 1,000 visit day website let want decrease bounce rate bounce rate actually pretty low not think look goal let average session duration want minute minute example consider past improvement history think year estimate basically reach new goal base past performance team like hey need scale let activity time short improve projection improve performance work analytic sure plan marketing improve well \\n way ai help recommend ideal customer profile usually linkedin b2b company case submit demographic profile look reach little bit product objective term lead generation example ai tell hey audience match profile look achieve challenge interest \\n\\n\\n aim kpis need calculate go reach objective long guess calculate versus automatically persona thing need manually look linkedin figure hey let find profile match time try figure look achieve platform active content ... look profile manually forever use automation bring relevant information way well content content usually creative guess ai little maybe question mark time take time brainstorm figure relevant content mention start \\n start usually thing need break automate part save save time \\n\\n background market past role manually think year ago technology pick like okay way maybe automate let figure use external tool ai base not use tool use tool ai drive like automate actually tool example use thirdpartycompany nice sale prospecting use like b2b linkedin prospecting.yeah help find profile information relevance update main change company main change person thirdpartycompany approach kind go hand vision persona stand extra level help actually execute campaign tool tell hey target audience sample big thirdpartycompany basically help level like audience update company message use specific person reach personalize people \\n\\n similar tool thirdpartycompany secondly focus planning right plan start optimization little bit lot planning help plan activity feel market right specific area big gap offer similar tool solution come b2b sale prospect activate marketing campaign actually bunch tool probably hundred not thousand crowded market lot solution help figure solve problem ... thirdpartycompany help actually execute marketing plan kind step figure target marketing strategy like \\n\\n people background datum analytic ai backend engineering found member get people background user experience design found member people come later project people deal end development stack separate backend engineering get marketing associate sale people ... advisor course advisor important sure right advisor get advisor strategic level help let business modeling financial strategy product strategy strategy relate question advisorname1 background experience mainly actually strategy business development management get commercial advisor europe middle east africa advisorname2 background lot business development sale partnership help develop channel europe middle east africa region \\n\\n\\n sure example test pricing think thing not crack fully actually update pricing think like time year advisor actually kind initial think like hey get batch feedback user pricing plan let brainstorm well alternative pricing structure usually hop remote team call hop discuss user feedback brainstorm idea new potential structure usually like new format turn feedback maybe iteration basically lot get great feedback think like way work \\n\\n way work like hey let great potential partner let discuss work try help manage relationship introduction minimum sure think kind relatively new partnership european advisor partnercompany partnercompany insurance remote team acceleratorname company think not know year like pretty big company right different division pretty big team actually great partnership pretty proud advisorname2 ... not know connect point time got connect introduction philip like okay think partnership structure time hear initial conversation like sound great hey maybe iteration maybe minor thing overall yes let manage set actual partnership email hey tracking link feature sure include website newsletter schedule announce partnership social post schedule think get contribution article team post blog go think week ago think majority introduction make sure deal closed decision making point involve overall great help think good example ... think question come commission referral tracking link partnership kind term specific term general ... not remember detail probably not want share specific detail general announcement partnership site small promotion newsletter social medium channel include blog post contribute course include website partner logo partnership include partnership list include think offer kind marketplace offer partner listen page help share social email channel referral opportunity share ... goal partnership focus startup focus startup business basically partner help reach startup let co marketing partnership help share information growthchannel help share information safetywe lot help remote team remote startup specifically focus remote startup refer safetywing \\n\\n raise family friend round pre seed round year operate year ... case raise pre seed not seed think work pre seed apply accelerator program actually apply luckily choice end great basically apply accelerator program feel like want program mentor funding early stage kind focus family friend round talk friend family member startup lot share information prepare like pitch deck projection financial projection material share interested join project \\n\\n\\n actually happy specific accelerator program speak startup day hear lot different story happy experience program 12 week program month focus kind learn different element run startup legal hr marketing sale customer feedback market research not remember element basically different chapter week different focus area week session think hour long actually discuss theory lot reading discuss read think thing plan term step actually implement startup week mentor talk topic expert area share experience advice ask question session kind homework specific topic implement specific topic startup example hr week write job description homework actually post live people interview structure week kind run week speak investor like extra hour mentorship ask question feedback direction lot stuff crazy 12 week great experience \\n\\n month main focus demo day demo day 70 investor come listen pitch go lot great introduction way investor introduction potential partner customer investor join round fundraising way great part guess program accelerator investor not program kind ongoing support mentorship introduction great ... demo day ... like company seven company cohort pitch share side pitch virtual covid investor ask question think ... like minute pitch plus minute think q&a 10 minute startup hour long event go startup startup investor send information like pager text investor attend register contact information touch want ask question interested continue conversation kind it- \\n\\n lot follow up lot great conversation ... lot actually show live demonstration platform talk little bit financial team kind go deeply specific customer segment talk market strategy focus kind different area hard follow specifically interested help enterprise marketing team think early great conversation early great introduction series series b onwards investor great conversation little bit early want connection show interest think reach second time say hey talk let catch guy touch base type thing great conversation investor actually interested join not feel like line vision not agree proceed then- ... like prominent example vc focus specifically seed round sure startup not additional investment exit basically sell company right not want want develop technology marketing management system ipo ... pretty straightforward say hey think interesting product love continue want work exit like money startup like goal right sure seed level bring little bit optimization module platform help optimize current marketing campaign maybe launch marketing campaign dashboard connect tool use comprehensive marketing management solution plan connect like seamless ai seamless way sure not know million marketer use day kind goal sell project \\n\\n great ... think piece advice useful actually start give feedback start accelerator program interview process spend significant time give feedback interview great ... sure test product accept program give introduction company portfolio sit screen sharing actually experience product live tell hey maybe way actually share feedback live screen sharing product session example launch mvp year july test typeform integration instead custom dashboard intake form lot limitation typeform example hard previous question multiple choice not straightforward simple thing remember point thing start marketing plan instead make kind recur membership subscription model lot feedback pricing great feedback term actually one tell hire sale team not sure background marketing think think lot product startup push sale product not think kind hard break try sure calendar kind half half founder not thing day actually go ahead hire sale team advise structure sale team great term commission sizing help set term ... sale marketing gain actually lot great mentor specific area like mention vip mentor come week base topic focus specific week partner investor accelerator program diverse experience like saas platform sale marketing area lot time open experience ... maybe like different time not recall specific moment sure disagree different time course think not major not recall specific instance \\n\\n interested product work ... oftentime question like okay ai work describe backend process question datum come question think common question ... think want sure invest proprietary technology lot set ai framework connect apply product ai product case personally test different tool marketer lot tool automate oh ai guess conversation datum source interesting like okay make sure datum okay data valid reliable datum \\n\\n actually white paper ai predict overall experience make sure actually not automate estimate performance way use ai mainly second marketing plan generation marketing plan actually automation tool kind split part market analysis basically information okay compare competition term website performance advertising trend industry focus keyword collect lot datum external source api scraper basically fast automation second report persona identification customer journey mapping use proprietary technology help actually identify target audience exactly decision journey like predictive analytic identify okay channel likely well result content opportunity content people interact past likely interact future consider product service try promote basically tool matter ... market research simple automation information source filter organize well way probably save like day kind simple automation save day second simulation make sure help identify ideal customer profile customer decision journey identify channel content opportunity kpi budget campaign ... difference automation versus predictive analytic identify ... automation plus predictive analytic help identify information \\n\\n great question actually core value not think remember heart want look note formula want sure fast not like production wise development make sure iterate fast customer feedback action fast slack qa channel communicate customer contribute daily basis hear basically customer tool issue experience question ask need add knowledge base basically kind \\n second flexibility try definitely open flexible transparent team actually different country team get people you.s nigeria get people ukraine germany serbia think miss basically kind scope definitely want sure welcome get focus user kind touch base little bit innovation definitely focus lot not want follow time solution market try innovate bring new space new well space add value work team important remote team little bit hard try not work silos definitely like chat slack jump zoom discuss different topic virtual party month connect informally actually saturday virtual lunch lunch slash dinner lunch dinner people timezone cool transparent responsibility thing thing focus user innovate work team transparent responsibility formula ... responsibility mean seek find solution accountable action encounter mistake fix platform result effort hard work team member answer power ecosystem well yes read design team ... example regard not know bug let platform q&a channel slack person like clue tag like issue platform people jump development developer team like ask question try figure hey know need fix power person like hey think issue try collaborate try fix problem try contribute issue code write stuff like happen everyday \\n\\n lot great startup definitely follow seek kind similar shoe term think different area business probably different startup background marketing kind relate well probably marketing area specifically marketing like hubspot partnership program event content marketing hub definitely try good sure not know 1 resource definitely great make sure content bring follower customer great partner program try bring educational resource connection point event webinar customer prospect definitely great example specific space ... like thing mention like blog content generate lot information lead magnet lead magnet downloadable resource fill form download provide certain information try not scale course second pregnant program agency amazing way turn agency customer way partner offer different tier kind different resource help agency promote hubspot sure display hubspot certify hubspot partner basically promote hubspot cool \\n try similar small way probably maybe 1 webinar different event offer community cool plan close round \\n\\n yes not big spectrum discuss offer platform nonprofit organization maybe startup not fund definitely need solution actually plan offer accelerator program small cohort startup apply solution free use approve ... plan come accelerator partnership accelerator acceleratorname2 make partnership accelerator kansas netherlands discussion close accelerator drop select accelerator program need submit short form review application accept free ... basically access pay \\n\\n female ... white ... get bachelor science marketing ... founder \\n\\n\\n definitely stand automate marketing planning make sure bring marketing intelligence automate manner not datum right marketing actually companyname rely secondary datum source let startup launch new clue not like market basically oftentime use case companyname basically not access datum lack datum primary datum case tool connect secondary datum source mainly connect primary datum sure data data drive marketing plan base \\n\\n\\n'"
      ]
     },
     "execution_count": 12,
     "metadata": {},
     "output_type": "execute_result"
    }
   ],
   "source": [
    "#all_text.loc[0]['pp_text']"
   ]
  },
  {
   "cell_type": "code",
   "execution_count": null,
   "metadata": {},
   "outputs": [],
   "source": []
  }
 ],
 "metadata": {
  "kernelspec": {
   "display_name": "Python 3",
   "language": "python",
   "name": "python3"
  },
  "language_info": {
   "codemirror_mode": {
    "name": "ipython",
    "version": 3
   },
   "file_extension": ".py",
   "mimetype": "text/x-python",
   "name": "python",
   "nbconvert_exporter": "python",
   "pygments_lexer": "ipython3",
   "version": "3.8.5"
  }
 },
 "nbformat": 4,
 "nbformat_minor": 5
}
